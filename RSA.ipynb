{
 "cells": [
  {
   "attachments": {},
   "cell_type": "markdown",
   "metadata": {},
   "source": [
    "# Projet: Cryptographie par la méthode RSA:\n",
    "## Fonctionnement résumé:\n",
    "### Chiffrement:\n",
    "On transforme notre message en une suite de nombres par le biais des numéros de charactères Unicode.\n",
    "\n",
    "On crée la clée de chiffrement de notre message à l'aide de deux nombres premiers très grands et de l'algorythme RSA.\n",
    "\n",
    "On crypte notre message par la méthode RSA.\n",
    "\n",
    "On transmet le message codé et la clef de chiffrement.\n",
    "\n",
    "### Déchiffrement:\n",
    "\n",
    "A l'aide de la clef et du message codé, on utilise le procédé inverse pour retrouver le message initial."
   ]
  },
  {
   "attachments": {},
   "cell_type": "markdown",
   "metadata": {},
   "source": [
    "### Définition des nombres premiers utilisés pour le chiffrement:"
   ]
  },
  {
   "cell_type": "code",
   "execution_count": 1,
   "metadata": {},
   "outputs": [],
   "source": [
    "PREMIER_P = 22091\n",
    "PREMIER_Q = 9576890767"
   ]
  },
  {
   "attachments": {},
   "cell_type": "markdown",
   "metadata": {},
   "source": [
    "### Création de la fonction d'inverse modulaire:\n",
    "On utilise l'algorithme d'Euclide Etendu étant donné que le $e$ et $\\varphi (n)$ sont premiers entre eux. La fonction ```extended_gcd(a,b)``` n'a pas été écrite par moi mais proviens du site internet techiedelight\n"
   ]
  },
  {
   "cell_type": "code",
   "execution_count": 2,
   "metadata": {},
   "outputs": [],
   "source": [
    "def extended_gcd(a, b):\n",
    "    if a == 0:\n",
    "        return b, 0, 1\n",
    "    else:\n",
    "        gcd, x, y = extended_gcd(b % a, a)\n",
    "        return gcd, y - (b // a) * x, x\n",
    "\n",
    "def InverseModulaire(e, Phi_n):\n",
    "    gcd, x, y = extended_gcd(e, Phi_n)\n",
    "    return x"
   ]
  },
  {
   "attachments": {},
   "cell_type": "markdown",
   "metadata": {},
   "source": [
    "### Calcul de la clef de cryptage et de décryptage:"
   ]
  },
  {
   "cell_type": "code",
   "execution_count": 3,
   "metadata": {},
   "outputs": [
    {
     "name": "stdout",
     "output_type": "stream",
     "text": [
      "7\n",
      "Clé publique :  (211563093933797, 7)\n",
      "Clé privée :  (60443862005983, 211563093933797)\n"
     ]
    }
   ],
   "source": [
    "N = PREMIER_P * PREMIER_Q\n",
    "PHI_N = (PREMIER_Q-1)*(PREMIER_P-1)\n",
    "e = 0\n",
    "for k in range(2, PHI_N):\n",
    "    gcd, u, v = extended_gcd(k, PHI_N)\n",
    "    if gcd == 1:\n",
    "        e = k\n",
    "        print(e)\n",
    "        break\n",
    "\n",
    "D = InverseModulaire(e, PHI_N)\n",
    "\n",
    "print(\"Clé publique : \", (N, e))\n",
    "print(\"Clé privée : \", (D, N))"
   ]
  },
  {
   "attachments": {},
   "cell_type": "markdown",
   "metadata": {},
   "source": [
    "### Cryptage du message:\n",
    "On peut transformer un texte en nombres via la fonction `ord()`, regrouper une phrase sous la forme d'un entier, puis crypter notre message avec comme seule condition que notre entier soit inférieur à `N`"
   ]
  },
  {
   "cell_type": "code",
   "execution_count": 7,
   "metadata": {},
   "outputs": [
    {
     "data": {
      "text/plain": [
       "172358543337413"
      ]
     },
     "execution_count": 7,
     "metadata": {},
     "output_type": "execute_result"
    }
   ],
   "source": [
    "message = 40000\n",
    "\n",
    "\n",
    "def Crypt(message, n, e):\n",
    "    return pow(message, e, n)\n",
    "\n",
    "crypt = Crypt(message, N, e)\n",
    "crypt"
   ]
  },
  {
   "attachments": {},
   "cell_type": "markdown",
   "metadata": {},
   "source": [
    "### Décryptage du message:"
   ]
  },
  {
   "cell_type": "code",
   "execution_count": 11,
   "metadata": {},
   "outputs": [
    {
     "data": {
      "text/plain": [
       "40000"
      ]
     },
     "execution_count": 11,
     "metadata": {},
     "output_type": "execute_result"
    }
   ],
   "source": [
    "def dCrypt(crypt, d, n):\n",
    "    return pow(crypt, d, n)\n",
    "\n",
    "Message =dCrypt(crypt, D, N)\n",
    "Message"
   ]
  }
 ],
 "metadata": {
  "kernelspec": {
   "display_name": "base",
   "language": "python",
   "name": "python3"
  },
  "language_info": {
   "codemirror_mode": {
    "name": "ipython",
    "version": 3
   },
   "file_extension": ".py",
   "mimetype": "text/x-python",
   "name": "python",
   "nbconvert_exporter": "python",
   "pygments_lexer": "ipython3",
   "version": "3.9.13"
  },
  "orig_nbformat": 4,
  "vscode": {
   "interpreter": {
    "hash": "05fd9dd1275a0bd9ccd939ec5516b0858244dad385f2249cc37f7108cc05fc86"
   }
  }
 },
 "nbformat": 4,
 "nbformat_minor": 2
}
